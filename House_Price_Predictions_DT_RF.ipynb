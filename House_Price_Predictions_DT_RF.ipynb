{
  "cells": [
    {
      "metadata": {
        "_uuid": "a971bebcf83527c95ed740762af364f83ade2c9e",
        "_cell_guid": "0d8c197b-8a10-47d2-9a46-1b8593a34353"
      },
      "cell_type": "markdown",
      "source": "This is the workbook that accompanies the \"[Welcome to Data Science in R](https://www.kaggle.com/rtatman/welcome-to-data-science-with-r/)\" lesson. You'll probably find it easier to complete the exercises if you read & follow the lesson itself. :)\n___"
    },
    {
      "metadata": {
        "collapsed": true,
        "_uuid": "f8a653c6ff1e6603b9659c5b159e8f23418b4ed2",
        "_cell_guid": "b01d66ae-dcf1-4988-a373-20f12be5361d"
      },
      "cell_type": "markdown",
      "source": "# Table of Contents\n\n* [Starting your machine learning project](#Starting-your-machine-learning-project)\n* [Selecting and filtering data with the Tidyverse](#Selecting-and-filtering-data-with-the-Tidyverse)\n* [Running your first model](#Running-your-first-model)\n* [How do we know if our model is good?](#How-do-we-know-if-our-model-is-good?)\n* [Underfitting/overfitting and improving your model](#Underfitting/overfitting-and-improving-your-model)\n* [A different type of model: Random forests](#A-different-type-of-model:-Random-forests)"
    },
    {
      "metadata": {
        "_uuid": "153ac22e055ac87d77f0fb7665ac383ae1ab7963",
        "_cell_guid": "1bff1b4b-ec7f-4a44-ad18-c73de01a9bc2"
      },
      "cell_type": "markdown",
      "source": "# Starting your machine learning project\n\nI've started off by reading your data in for you. Make sure you run the first cell before you try to run any others!"
    },
    {
      "metadata": {
        "_kg_hide-output": true,
        "_uuid": "2811b7fc8048699c2f1c09cc7ff29ced9861b7d7",
        "trusted": true,
        "_cell_guid": "a9d5d654-8be4-440c-bc35-b7f905e7ab90"
      },
      "cell_type": "code",
      "source": "# load in the tidyverse package\nlibrary(tidyverse)\n\n# read the data and store data in a tibble\niowa_data <- read_csv(\"../input/train.csv\") \n\n# make sure Condition1 is a factor & not a char\niowa_data$Condition1 <- as.factor(iowa_data$Condition1)",
      "execution_count": 1,
      "outputs": [
        {
          "output_type": "stream",
          "text": "── Attaching packages ─────────────────────────────────────── tidyverse 1.2.1 ──\n✔ ggplot2 2.2.1.9000     ✔ purrr   0.2.4     \n✔ tibble  1.4.2          ✔ dplyr   0.7.4     \n✔ tidyr   0.8.0          ✔ stringr 1.2.0     \n✔ readr   1.2.0          ✔ forcats 0.2.0     \n── Conflicts ────────────────────────────────────────── tidyverse_conflicts() ──\n✖ dplyr::filter() masks stats::filter()\n✖ dplyr::lag()    masks stats::lag()\nParsed with column specification:\ncols(\n  .default = col_character(),\n  Id = col_double(),\n  MSSubClass = col_double(),\n  LotFrontage = col_double(),\n  LotArea = col_double(),\n  OverallQual = col_double(),\n  OverallCond = col_double(),\n  YearBuilt = col_double(),\n  YearRemodAdd = col_double(),\n  MasVnrArea = col_double(),\n  BsmtFinSF1 = col_double(),\n  BsmtFinSF2 = col_double(),\n  BsmtUnfSF = col_double(),\n  TotalBsmtSF = col_double(),\n  `1stFlrSF` = col_double(),\n  `2ndFlrSF` = col_double(),\n  LowQualFinSF = col_double(),\n  GrLivArea = col_double(),\n  BsmtFullBath = col_double(),\n  BsmtHalfBath = col_double(),\n  FullBath = col_double()\n  # ... with 18 more columns\n)\nSee spec(...) for full column specifications.\n",
          "name": "stderr"
        }
      ]
    },
    {
      "metadata": {
        "_uuid": "70fa734138e390dcc851e77c2a61b72c69856895",
        "trusted": true,
        "_cell_guid": "b940681b-1765-4dc9-9984-486c29297ccc"
      },
      "cell_type": "code",
      "source": "# Your turn: summarize the iowa_data dataframe\nsummary(iowa_data)",
      "execution_count": 3,
      "outputs": [
        {
          "output_type": "display_data",
          "data": {
            "text/plain": "       Id           MSSubClass      MSZoning          LotFrontage    \n Min.   :   1.0   Min.   : 20.0   Length:1460        Min.   : 21.00  \n 1st Qu.: 365.8   1st Qu.: 20.0   Class :character   1st Qu.: 59.00  \n Median : 730.5   Median : 50.0   Mode  :character   Median : 69.00  \n Mean   : 730.5   Mean   : 56.9                      Mean   : 70.05  \n 3rd Qu.:1095.2   3rd Qu.: 70.0                      3rd Qu.: 80.00  \n Max.   :1460.0   Max.   :190.0                      Max.   :313.00  \n                                                     NA's   :259     \n    LotArea          Street             Alley             LotShape        \n Min.   :  1300   Length:1460        Length:1460        Length:1460       \n 1st Qu.:  7554   Class :character   Class :character   Class :character  \n Median :  9478   Mode  :character   Mode  :character   Mode  :character  \n Mean   : 10517                                                           \n 3rd Qu.: 11602                                                           \n Max.   :215245                                                           \n                                                                          \n LandContour         Utilities          LotConfig          LandSlope        \n Length:1460        Length:1460        Length:1460        Length:1460       \n Class :character   Class :character   Class :character   Class :character  \n Mode  :character   Mode  :character   Mode  :character   Mode  :character  \n                                                                            \n                                                                            \n                                                                            \n                                                                            \n Neighborhood         Condition1    Condition2          BldgType        \n Length:1460        Norm   :1260   Length:1460        Length:1460       \n Class :character   Feedr  :  81   Class :character   Class :character  \n Mode  :character   Artery :  48   Mode  :character   Mode  :character  \n                    RRAn   :  26                                        \n                    PosN   :  19                                        \n                    RRAe   :  11                                        \n                    (Other):  15                                        \n  HouseStyle         OverallQual      OverallCond      YearBuilt   \n Length:1460        Min.   : 1.000   Min.   :1.000   Min.   :1872  \n Class :character   1st Qu.: 5.000   1st Qu.:5.000   1st Qu.:1954  \n Mode  :character   Median : 6.000   Median :5.000   Median :1973  \n                    Mean   : 6.099   Mean   :5.575   Mean   :1971  \n                    3rd Qu.: 7.000   3rd Qu.:6.000   3rd Qu.:2000  \n                    Max.   :10.000   Max.   :9.000   Max.   :2010  \n                                                                   \n  YearRemodAdd   RoofStyle           RoofMatl         Exterior1st       \n Min.   :1950   Length:1460        Length:1460        Length:1460       \n 1st Qu.:1967   Class :character   Class :character   Class :character  \n Median :1994   Mode  :character   Mode  :character   Mode  :character  \n Mean   :1985                                                           \n 3rd Qu.:2004                                                           \n Max.   :2010                                                           \n                                                                        \n Exterior2nd         MasVnrType          MasVnrArea      ExterQual        \n Length:1460        Length:1460        Min.   :   0.0   Length:1460       \n Class :character   Class :character   1st Qu.:   0.0   Class :character  \n Mode  :character   Mode  :character   Median :   0.0   Mode  :character  \n                                       Mean   : 103.7                     \n                                       3rd Qu.: 166.0                     \n                                       Max.   :1600.0                     \n                                       NA's   :8                          \n  ExterCond          Foundation          BsmtQual           BsmtCond        \n Length:1460        Length:1460        Length:1460        Length:1460       \n Class :character   Class :character   Class :character   Class :character  \n Mode  :character   Mode  :character   Mode  :character   Mode  :character  \n                                                                            \n                                                                            \n                                                                            \n                                                                            \n BsmtExposure       BsmtFinType1         BsmtFinSF1     BsmtFinType2      \n Length:1460        Length:1460        Min.   :   0.0   Length:1460       \n Class :character   Class :character   1st Qu.:   0.0   Class :character  \n Mode  :character   Mode  :character   Median : 383.5   Mode  :character  \n                                       Mean   : 443.6                     \n                                       3rd Qu.: 712.2                     \n                                       Max.   :5644.0                     \n                                                                          \n   BsmtFinSF2        BsmtUnfSF       TotalBsmtSF       Heating         \n Min.   :   0.00   Min.   :   0.0   Min.   :   0.0   Length:1460       \n 1st Qu.:   0.00   1st Qu.: 223.0   1st Qu.: 795.8   Class :character  \n Median :   0.00   Median : 477.5   Median : 991.5   Mode  :character  \n Mean   :  46.55   Mean   : 567.2   Mean   :1057.4                     \n 3rd Qu.:   0.00   3rd Qu.: 808.0   3rd Qu.:1298.2                     \n Max.   :1474.00   Max.   :2336.0   Max.   :6110.0                     \n                                                                       \n  HeatingQC          CentralAir         Electrical           1stFlrSF   \n Length:1460        Length:1460        Length:1460        Min.   : 334  \n Class :character   Class :character   Class :character   1st Qu.: 882  \n Mode  :character   Mode  :character   Mode  :character   Median :1087  \n                                                          Mean   :1163  \n                                                          3rd Qu.:1391  \n                                                          Max.   :4692  \n                                                                        \n    2ndFlrSF     LowQualFinSF       GrLivArea     BsmtFullBath   \n Min.   :   0   Min.   :  0.000   Min.   : 334   Min.   :0.0000  \n 1st Qu.:   0   1st Qu.:  0.000   1st Qu.:1130   1st Qu.:0.0000  \n Median :   0   Median :  0.000   Median :1464   Median :0.0000  \n Mean   : 347   Mean   :  5.845   Mean   :1515   Mean   :0.4253  \n 3rd Qu.: 728   3rd Qu.:  0.000   3rd Qu.:1777   3rd Qu.:1.0000  \n Max.   :2065   Max.   :572.000   Max.   :5642   Max.   :3.0000  \n                                                                 \n  BsmtHalfBath        FullBath        HalfBath       BedroomAbvGr  \n Min.   :0.00000   Min.   :0.000   Min.   :0.0000   Min.   :0.000  \n 1st Qu.:0.00000   1st Qu.:1.000   1st Qu.:0.0000   1st Qu.:2.000  \n Median :0.00000   Median :2.000   Median :0.0000   Median :3.000  \n Mean   :0.05753   Mean   :1.565   Mean   :0.3829   Mean   :2.866  \n 3rd Qu.:0.00000   3rd Qu.:2.000   3rd Qu.:1.0000   3rd Qu.:3.000  \n Max.   :2.00000   Max.   :3.000   Max.   :2.0000   Max.   :8.000  \n                                                                   \n  KitchenAbvGr   KitchenQual         TotRmsAbvGrd     Functional       \n Min.   :0.000   Length:1460        Min.   : 2.000   Length:1460       \n 1st Qu.:1.000   Class :character   1st Qu.: 5.000   Class :character  \n Median :1.000   Mode  :character   Median : 6.000   Mode  :character  \n Mean   :1.047                      Mean   : 6.518                     \n 3rd Qu.:1.000                      3rd Qu.: 7.000                     \n Max.   :3.000                      Max.   :14.000                     \n                                                                       \n   Fireplaces    FireplaceQu         GarageType         GarageYrBlt  \n Min.   :0.000   Length:1460        Length:1460        Min.   :1900  \n 1st Qu.:0.000   Class :character   Class :character   1st Qu.:1961  \n Median :1.000   Mode  :character   Mode  :character   Median :1980  \n Mean   :0.613                                         Mean   :1979  \n 3rd Qu.:1.000                                         3rd Qu.:2002  \n Max.   :3.000                                         Max.   :2010  \n                                                       NA's   :81    \n GarageFinish         GarageCars      GarageArea      GarageQual       \n Length:1460        Min.   :0.000   Min.   :   0.0   Length:1460       \n Class :character   1st Qu.:1.000   1st Qu.: 334.5   Class :character  \n Mode  :character   Median :2.000   Median : 480.0   Mode  :character  \n                    Mean   :1.767   Mean   : 473.0                     \n                    3rd Qu.:2.000   3rd Qu.: 576.0                     \n                    Max.   :4.000   Max.   :1418.0                     \n                                                                       \n  GarageCond         PavedDrive          WoodDeckSF      OpenPorchSF    \n Length:1460        Length:1460        Min.   :  0.00   Min.   :  0.00  \n Class :character   Class :character   1st Qu.:  0.00   1st Qu.:  0.00  \n Mode  :character   Mode  :character   Median :  0.00   Median : 25.00  \n                                       Mean   : 94.24   Mean   : 46.66  \n                                       3rd Qu.:168.00   3rd Qu.: 68.00  \n                                       Max.   :857.00   Max.   :547.00  \n                                                                        \n EnclosedPorch      3SsnPorch       ScreenPorch        PoolArea      \n Min.   :  0.00   Min.   :  0.00   Min.   :  0.00   Min.   :  0.000  \n 1st Qu.:  0.00   1st Qu.:  0.00   1st Qu.:  0.00   1st Qu.:  0.000  \n Median :  0.00   Median :  0.00   Median :  0.00   Median :  0.000  \n Mean   : 21.95   Mean   :  3.41   Mean   : 15.06   Mean   :  2.759  \n 3rd Qu.:  0.00   3rd Qu.:  0.00   3rd Qu.:  0.00   3rd Qu.:  0.000  \n Max.   :552.00   Max.   :508.00   Max.   :480.00   Max.   :738.000  \n                                                                     \n    PoolQC             Fence           MiscFeature           MiscVal        \n Length:1460        Length:1460        Length:1460        Min.   :    0.00  \n Class :character   Class :character   Class :character   1st Qu.:    0.00  \n Mode  :character   Mode  :character   Mode  :character   Median :    0.00  \n                                                          Mean   :   43.49  \n                                                          3rd Qu.:    0.00  \n                                                          Max.   :15500.00  \n                                                                            \n     MoSold           YrSold       SaleType         SaleCondition     \n Min.   : 1.000   Min.   :2006   Length:1460        Length:1460       \n 1st Qu.: 5.000   1st Qu.:2007   Class :character   Class :character  \n Median : 6.000   Median :2008   Mode  :character   Mode  :character  \n Mean   : 6.322   Mean   :2008                                        \n 3rd Qu.: 8.000   3rd Qu.:2009                                        \n Max.   :12.000   Max.   :2010                                        \n                                                                      \n   SalePrice     \n Min.   : 34900  \n 1st Qu.:129975  \n Median :163000  \n Mean   :180921  \n 3rd Qu.:214000  \n Max.   :755000  \n                 "
          },
          "metadata": {}
        }
      ]
    },
    {
      "metadata": {
        "_uuid": "8556fd1de365be8de6e08b9a30edae29f1664ad0",
        "_cell_guid": "fc7aaf1c-1d1c-4dcb-9475-b4e7dcbcb183"
      },
      "cell_type": "markdown",
      "source": "# Running your first model"
    },
    {
      "metadata": {
        "_uuid": "22a0b222c529e0fa3b438e38c3d57493b1811185",
        "_cell_guid": "eaaa6d37-895e-4fd9-82e1-d685126196d0"
      },
      "cell_type": "markdown",
      "source": "Now it's time for you to define and fit a model for your data.\n1. Select the target variable you want to predict. You can get a list of the columns in a data frame using the function col_names(), which is done for you in the cell below.\n2. Fit a model that can predict your target variable using the following predictors: \n    * LotArea\n    * YearBuilt\n    * Condition1 (how close to the main road the house is)\n    * FullBath\n    * BedroomAbvGr\n    * TotRmsAbvGrd\n\n3. Make a few predictions with the predict() function and print them out.\n4. Optional: Plot the decision "
    },
    {
      "metadata": {
        "_uuid": "deb03ece4ecf151a9ea33475fb65f4c2924e1d20",
        "trusted": true,
        "_cell_guid": "12a771f8-530b-4262-a050-67c5b66ab89f"
      },
      "cell_type": "code",
      "source": "# Your turn: build a model to predict housing prices in Iowa\n\n# library for building decision trees\nlibrary(rpart)\n\n# print a list of the column names\nnames(iowa_data)",
      "execution_count": 4,
      "outputs": [
        {
          "output_type": "display_data",
          "data": {
            "text/plain": " [1] \"Id\"            \"MSSubClass\"    \"MSZoning\"      \"LotFrontage\"  \n [5] \"LotArea\"       \"Street\"        \"Alley\"         \"LotShape\"     \n [9] \"LandContour\"   \"Utilities\"     \"LotConfig\"     \"LandSlope\"    \n[13] \"Neighborhood\"  \"Condition1\"    \"Condition2\"    \"BldgType\"     \n[17] \"HouseStyle\"    \"OverallQual\"   \"OverallCond\"   \"YearBuilt\"    \n[21] \"YearRemodAdd\"  \"RoofStyle\"     \"RoofMatl\"      \"Exterior1st\"  \n[25] \"Exterior2nd\"   \"MasVnrType\"    \"MasVnrArea\"    \"ExterQual\"    \n[29] \"ExterCond\"     \"Foundation\"    \"BsmtQual\"      \"BsmtCond\"     \n[33] \"BsmtExposure\"  \"BsmtFinType1\"  \"BsmtFinSF1\"    \"BsmtFinType2\" \n[37] \"BsmtFinSF2\"    \"BsmtUnfSF\"     \"TotalBsmtSF\"   \"Heating\"      \n[41] \"HeatingQC\"     \"CentralAir\"    \"Electrical\"    \"1stFlrSF\"     \n[45] \"2ndFlrSF\"      \"LowQualFinSF\"  \"GrLivArea\"     \"BsmtFullBath\" \n[49] \"BsmtHalfBath\"  \"FullBath\"      \"HalfBath\"      \"BedroomAbvGr\" \n[53] \"KitchenAbvGr\"  \"KitchenQual\"   \"TotRmsAbvGrd\"  \"Functional\"   \n[57] \"Fireplaces\"    \"FireplaceQu\"   \"GarageType\"    \"GarageYrBlt\"  \n[61] \"GarageFinish\"  \"GarageCars\"    \"GarageArea\"    \"GarageQual\"   \n[65] \"GarageCond\"    \"PavedDrive\"    \"WoodDeckSF\"    \"OpenPorchSF\"  \n[69] \"EnclosedPorch\" \"3SsnPorch\"     \"ScreenPorch\"   \"PoolArea\"     \n[73] \"PoolQC\"        \"Fence\"         \"MiscFeature\"   \"MiscVal\"      \n[77] \"MoSold\"        \"YrSold\"        \"SaleType\"      \"SaleCondition\"\n[81] \"SalePrice\"    ",
            "text/latex": "\\begin{enumerate*}\n\\item 'Id'\n\\item 'MSSubClass'\n\\item 'MSZoning'\n\\item 'LotFrontage'\n\\item 'LotArea'\n\\item 'Street'\n\\item 'Alley'\n\\item 'LotShape'\n\\item 'LandContour'\n\\item 'Utilities'\n\\item 'LotConfig'\n\\item 'LandSlope'\n\\item 'Neighborhood'\n\\item 'Condition1'\n\\item 'Condition2'\n\\item 'BldgType'\n\\item 'HouseStyle'\n\\item 'OverallQual'\n\\item 'OverallCond'\n\\item 'YearBuilt'\n\\item 'YearRemodAdd'\n\\item 'RoofStyle'\n\\item 'RoofMatl'\n\\item 'Exterior1st'\n\\item 'Exterior2nd'\n\\item 'MasVnrType'\n\\item 'MasVnrArea'\n\\item 'ExterQual'\n\\item 'ExterCond'\n\\item 'Foundation'\n\\item 'BsmtQual'\n\\item 'BsmtCond'\n\\item 'BsmtExposure'\n\\item 'BsmtFinType1'\n\\item 'BsmtFinSF1'\n\\item 'BsmtFinType2'\n\\item 'BsmtFinSF2'\n\\item 'BsmtUnfSF'\n\\item 'TotalBsmtSF'\n\\item 'Heating'\n\\item 'HeatingQC'\n\\item 'CentralAir'\n\\item 'Electrical'\n\\item '1stFlrSF'\n\\item '2ndFlrSF'\n\\item 'LowQualFinSF'\n\\item 'GrLivArea'\n\\item 'BsmtFullBath'\n\\item 'BsmtHalfBath'\n\\item 'FullBath'\n\\item 'HalfBath'\n\\item 'BedroomAbvGr'\n\\item 'KitchenAbvGr'\n\\item 'KitchenQual'\n\\item 'TotRmsAbvGrd'\n\\item 'Functional'\n\\item 'Fireplaces'\n\\item 'FireplaceQu'\n\\item 'GarageType'\n\\item 'GarageYrBlt'\n\\item 'GarageFinish'\n\\item 'GarageCars'\n\\item 'GarageArea'\n\\item 'GarageQual'\n\\item 'GarageCond'\n\\item 'PavedDrive'\n\\item 'WoodDeckSF'\n\\item 'OpenPorchSF'\n\\item 'EnclosedPorch'\n\\item '3SsnPorch'\n\\item 'ScreenPorch'\n\\item 'PoolArea'\n\\item 'PoolQC'\n\\item 'Fence'\n\\item 'MiscFeature'\n\\item 'MiscVal'\n\\item 'MoSold'\n\\item 'YrSold'\n\\item 'SaleType'\n\\item 'SaleCondition'\n\\item 'SalePrice'\n\\end{enumerate*}\n",
            "text/markdown": "1. 'Id'\n2. 'MSSubClass'\n3. 'MSZoning'\n4. 'LotFrontage'\n5. 'LotArea'\n6. 'Street'\n7. 'Alley'\n8. 'LotShape'\n9. 'LandContour'\n10. 'Utilities'\n11. 'LotConfig'\n12. 'LandSlope'\n13. 'Neighborhood'\n14. 'Condition1'\n15. 'Condition2'\n16. 'BldgType'\n17. 'HouseStyle'\n18. 'OverallQual'\n19. 'OverallCond'\n20. 'YearBuilt'\n21. 'YearRemodAdd'\n22. 'RoofStyle'\n23. 'RoofMatl'\n24. 'Exterior1st'\n25. 'Exterior2nd'\n26. 'MasVnrType'\n27. 'MasVnrArea'\n28. 'ExterQual'\n29. 'ExterCond'\n30. 'Foundation'\n31. 'BsmtQual'\n32. 'BsmtCond'\n33. 'BsmtExposure'\n34. 'BsmtFinType1'\n35. 'BsmtFinSF1'\n36. 'BsmtFinType2'\n37. 'BsmtFinSF2'\n38. 'BsmtUnfSF'\n39. 'TotalBsmtSF'\n40. 'Heating'\n41. 'HeatingQC'\n42. 'CentralAir'\n43. 'Electrical'\n44. '1stFlrSF'\n45. '2ndFlrSF'\n46. 'LowQualFinSF'\n47. 'GrLivArea'\n48. 'BsmtFullBath'\n49. 'BsmtHalfBath'\n50. 'FullBath'\n51. 'HalfBath'\n52. 'BedroomAbvGr'\n53. 'KitchenAbvGr'\n54. 'KitchenQual'\n55. 'TotRmsAbvGrd'\n56. 'Functional'\n57. 'Fireplaces'\n58. 'FireplaceQu'\n59. 'GarageType'\n60. 'GarageYrBlt'\n61. 'GarageFinish'\n62. 'GarageCars'\n63. 'GarageArea'\n64. 'GarageQual'\n65. 'GarageCond'\n66. 'PavedDrive'\n67. 'WoodDeckSF'\n68. 'OpenPorchSF'\n69. 'EnclosedPorch'\n70. '3SsnPorch'\n71. 'ScreenPorch'\n72. 'PoolArea'\n73. 'PoolQC'\n74. 'Fence'\n75. 'MiscFeature'\n76. 'MiscVal'\n77. 'MoSold'\n78. 'YrSold'\n79. 'SaleType'\n80. 'SaleCondition'\n81. 'SalePrice'\n\n\n",
            "text/html": "<ol class=list-inline>\n\t<li>'Id'</li>\n\t<li>'MSSubClass'</li>\n\t<li>'MSZoning'</li>\n\t<li>'LotFrontage'</li>\n\t<li>'LotArea'</li>\n\t<li>'Street'</li>\n\t<li>'Alley'</li>\n\t<li>'LotShape'</li>\n\t<li>'LandContour'</li>\n\t<li>'Utilities'</li>\n\t<li>'LotConfig'</li>\n\t<li>'LandSlope'</li>\n\t<li>'Neighborhood'</li>\n\t<li>'Condition1'</li>\n\t<li>'Condition2'</li>\n\t<li>'BldgType'</li>\n\t<li>'HouseStyle'</li>\n\t<li>'OverallQual'</li>\n\t<li>'OverallCond'</li>\n\t<li>'YearBuilt'</li>\n\t<li>'YearRemodAdd'</li>\n\t<li>'RoofStyle'</li>\n\t<li>'RoofMatl'</li>\n\t<li>'Exterior1st'</li>\n\t<li>'Exterior2nd'</li>\n\t<li>'MasVnrType'</li>\n\t<li>'MasVnrArea'</li>\n\t<li>'ExterQual'</li>\n\t<li>'ExterCond'</li>\n\t<li>'Foundation'</li>\n\t<li>'BsmtQual'</li>\n\t<li>'BsmtCond'</li>\n\t<li>'BsmtExposure'</li>\n\t<li>'BsmtFinType1'</li>\n\t<li>'BsmtFinSF1'</li>\n\t<li>'BsmtFinType2'</li>\n\t<li>'BsmtFinSF2'</li>\n\t<li>'BsmtUnfSF'</li>\n\t<li>'TotalBsmtSF'</li>\n\t<li>'Heating'</li>\n\t<li>'HeatingQC'</li>\n\t<li>'CentralAir'</li>\n\t<li>'Electrical'</li>\n\t<li>'1stFlrSF'</li>\n\t<li>'2ndFlrSF'</li>\n\t<li>'LowQualFinSF'</li>\n\t<li>'GrLivArea'</li>\n\t<li>'BsmtFullBath'</li>\n\t<li>'BsmtHalfBath'</li>\n\t<li>'FullBath'</li>\n\t<li>'HalfBath'</li>\n\t<li>'BedroomAbvGr'</li>\n\t<li>'KitchenAbvGr'</li>\n\t<li>'KitchenQual'</li>\n\t<li>'TotRmsAbvGrd'</li>\n\t<li>'Functional'</li>\n\t<li>'Fireplaces'</li>\n\t<li>'FireplaceQu'</li>\n\t<li>'GarageType'</li>\n\t<li>'GarageYrBlt'</li>\n\t<li>'GarageFinish'</li>\n\t<li>'GarageCars'</li>\n\t<li>'GarageArea'</li>\n\t<li>'GarageQual'</li>\n\t<li>'GarageCond'</li>\n\t<li>'PavedDrive'</li>\n\t<li>'WoodDeckSF'</li>\n\t<li>'OpenPorchSF'</li>\n\t<li>'EnclosedPorch'</li>\n\t<li>'3SsnPorch'</li>\n\t<li>'ScreenPorch'</li>\n\t<li>'PoolArea'</li>\n\t<li>'PoolQC'</li>\n\t<li>'Fence'</li>\n\t<li>'MiscFeature'</li>\n\t<li>'MiscVal'</li>\n\t<li>'MoSold'</li>\n\t<li>'YrSold'</li>\n\t<li>'SaleType'</li>\n\t<li>'SaleCondition'</li>\n\t<li>'SalePrice'</li>\n</ol>\n"
          },
          "metadata": {}
        }
      ]
    },
    {
      "metadata": {
        "trusted": true,
        "_uuid": "fd973407080c1e58a61eaf629e971db5e045cac1"
      },
      "cell_type": "code",
      "source": "#fit the model\nfit <- rpart(SalePrice ~ LotArea + YearBuilt + Condition1 + FullBath + BedroomAbvGr + TotRmsAbvGrd, data = iowa_data)",
      "execution_count": 5,
      "outputs": []
    },
    {
      "metadata": {
        "trusted": true,
        "_uuid": "e9628cd03a738d91c3333e052b96aa1f85de9222"
      },
      "cell_type": "code",
      "source": "print(\"Making predictions for the following 5 houses:\")\nprint(head(iowa_data))\n\nprint(\"The predictions are\")\nprint(predict(fit, head(iowa_data)))\n\nprint(\"Actual price\")\nprint(head(iowa_data$SalePrice))",
      "execution_count": 6,
      "outputs": [
        {
          "output_type": "stream",
          "text": "[1] \"Making predictions for the following 5 houses:\"\n# A tibble: 6 x 81\n     Id MSSubClass MSZoning LotFrontage LotArea Street Alley LotShape\n  <dbl>      <dbl> <chr>          <dbl>   <dbl> <chr>  <chr> <chr>   \n1  1.00       60.0 RL              65.0    8450 Pave   <NA>  Reg     \n2  2.00       20.0 RL              80.0    9600 Pave   <NA>  Reg     \n3  3.00       60.0 RL              68.0   11250 Pave   <NA>  IR1     \n4  4.00       70.0 RL              60.0    9550 Pave   <NA>  IR1     \n5  5.00       60.0 RL              84.0   14260 Pave   <NA>  IR1     \n6  6.00       50.0 RL              85.0   14115 Pave   <NA>  IR1     \n# ... with 73 more variables: LandContour <chr>, Utilities <chr>,\n#   LotConfig <chr>, LandSlope <chr>, Neighborhood <chr>, Condition1 <fct>,\n#   Condition2 <chr>, BldgType <chr>, HouseStyle <chr>, OverallQual <dbl>,\n#   OverallCond <dbl>, YearBuilt <dbl>, YearRemodAdd <dbl>, RoofStyle <chr>,\n#   RoofMatl <chr>, Exterior1st <chr>, Exterior2nd <chr>, MasVnrType <chr>,\n#   MasVnrArea <dbl>, ExterQual <chr>, ExterCond <chr>, Foundation <chr>,\n#   BsmtQual <chr>, BsmtCond <chr>, BsmtExposure <chr>, BsmtFinType1 <chr>,\n#   BsmtFinSF1 <dbl>, BsmtFinType2 <chr>, BsmtFinSF2 <dbl>, BsmtUnfSF <dbl>,\n#   TotalBsmtSF <dbl>, Heating <chr>, HeatingQC <chr>, CentralAir <chr>,\n#   Electrical <chr>, `1stFlrSF` <dbl>, `2ndFlrSF` <dbl>, LowQualFinSF <dbl>,\n#   GrLivArea <dbl>, BsmtFullBath <dbl>, BsmtHalfBath <dbl>, FullBath <dbl>,\n#   HalfBath <dbl>, BedroomAbvGr <dbl>, KitchenAbvGr <dbl>, KitchenQual <chr>,\n#   TotRmsAbvGrd <dbl>, Functional <chr>, Fireplaces <dbl>, FireplaceQu <chr>,\n#   GarageType <chr>, GarageYrBlt <dbl>, GarageFinish <chr>, GarageCars <dbl>,\n#   GarageArea <dbl>, GarageQual <chr>, GarageCond <chr>, PavedDrive <chr>,\n#   WoodDeckSF <dbl>, OpenPorchSF <dbl>, EnclosedPorch <dbl>,\n#   `3SsnPorch` <dbl>, ScreenPorch <dbl>, PoolArea <dbl>, PoolQC <chr>,\n#   Fence <chr>, MiscFeature <chr>, MiscVal <dbl>, MoSold <dbl>, YrSold <dbl>,\n#   SaleType <chr>, SaleCondition <chr>, SalePrice <dbl>\n[1] \"The predictions are\"\n       1        2        3        4        5        6 \n193389.6 139255.8 191847.8 139255.8 299194.8 308191.8 \n[1] \"Actual price\"\n[1] 208500 181500 223500 140000 250000 143000\n",
          "name": "stdout"
        }
      ]
    },
    {
      "metadata": {
        "trusted": true,
        "_uuid": "a39ce3c7948c6075e774f692eacf9c289af5199a"
      },
      "cell_type": "code",
      "source": "# package with the mae function\nlibrary(modelr)\n\n# get the mean average error for our model\nmae(model = fit, data = iowa_data)",
      "execution_count": 7,
      "outputs": [
        {
          "output_type": "display_data",
          "data": {
            "text/plain": "[1] 33529.06",
            "text/latex": "33529.0594499713",
            "text/markdown": "33529.0594499713",
            "text/html": "33529.0594499713"
          },
          "metadata": {}
        }
      ]
    },
    {
      "metadata": {
        "_uuid": "5f4386189b671bec04378bf88df09a7d3a911cf7",
        "_cell_guid": "cee9bd66-bcfa-47dc-aaa1-221c1f94fc9e"
      },
      "cell_type": "markdown",
      "source": "# How do we know if our model is good?"
    },
    {
      "metadata": {
        "_uuid": "1ebcca918bf20e0c88ddaff13b752312c3ccd139",
        "trusted": true,
        "_cell_guid": "308e9306-bf0f-458f-9af3-fe09f1f6bd39"
      },
      "cell_type": "code",
      "source": "# Your turn: split your training data into test & training sets\n# split our data so that 40% is in the test set and 60% is in the training set\nsplitData <- resample_partition(iowa_data, c(test = 0.4, train = 0.6))\n\n# how many cases are in test & training set? \nlapply(splitData, dim)\n# Fit a new model to your training set...\n\nfit2 <- rpart(SalePrice ~ LotArea + YearBuilt + Condition1 + FullBath + BedroomAbvGr + TotRmsAbvGrd, data = splitData$train)\n\n# get the mean average error for our new model, based on our test data\nmae(model = fit2, data = splitData$test)\n\n\n\n",
      "execution_count": 11,
      "outputs": [
        {
          "output_type": "display_data",
          "data": {
            "text/plain": "$test\n[1] 583  81\n\n$train\n[1] 877  81\n",
            "text/latex": "\\begin{description}\n\\item[\\$test] \\begin{enumerate*}\n\\item 583\n\\item 81\n\\end{enumerate*}\n\n\\item[\\$train] \\begin{enumerate*}\n\\item 877\n\\item 81\n\\end{enumerate*}\n\n\\end{description}\n",
            "text/markdown": "$test\n:   1. 583\n2. 81\n\n\n\n$train\n:   1. 877\n2. 81\n\n\n\n\n\n",
            "text/html": "<dl>\n\t<dt>$test</dt>\n\t\t<dd><ol class=list-inline>\n\t<li>583</li>\n\t<li>81</li>\n</ol>\n</dd>\n\t<dt>$train</dt>\n\t\t<dd><ol class=list-inline>\n\t<li>877</li>\n\t<li>81</li>\n</ol>\n</dd>\n</dl>\n"
          },
          "metadata": {}
        },
        {
          "output_type": "display_data",
          "data": {
            "text/plain": "[1] 35816.09",
            "text/latex": "35816.0910402526",
            "text/markdown": "35816.0910402526",
            "text/html": "35816.0910402526"
          },
          "metadata": {}
        }
      ]
    },
    {
      "metadata": {
        "_uuid": "64ce0bc31cdd230bccd6916bfe0f57a7a412cc41",
        "_cell_guid": "85be1bd5-4ad7-49a2-acbd-98cda7235c93"
      },
      "cell_type": "markdown",
      "source": "# Underfitting/overfitting and improving your model\n\nUse a for loop that tries different values of *maxdepth* and calls the *get_mae* function on each to find the ideal number of leaves for your Iowa data."
    },
    {
      "metadata": {
        "_uuid": "bf574e4ca0172f5206ee43d47c426a0a2aee9e0b",
        "trusted": true,
        "_cell_guid": "44dd2d51-198d-4214-8f15-62d9d51a1758"
      },
      "cell_type": "code",
      "source": "# a function to get the maximum average error for a given max depth. You should pass in\n# the target as the name of the target column and the predictors as vector where\n# each item in the vector is the name of the column\nget_mae <- function(maxdepth, target, predictors, training_data, testing_data){\n    \n    # turn the predictors & target into a formula to pass to rpart()\n    predictors <- paste(predictors, collapse=\"+\")\n    formula <- as.formula(paste(target,\"~\",predictors,sep = \"\"))\n    \n    # build our model\n    model <- rpart(formula, data = training_data,\n                   control = rpart.control(maxdepth = maxdepth))\n    # get the mae\n    mae <- mae(model, testing_data)\n    return(mae)\n}",
      "execution_count": 13,
      "outputs": []
    },
    {
      "metadata": {
        "_uuid": "1b6b1a4f4f4972032513ed40555151ca4cc00ae6",
        "trusted": true,
        "_cell_guid": "5750aa29-7286-4268-b0e4-0fd84ee28f1d"
      },
      "cell_type": "code",
      "source": "# Your turn: use the get_mae function to find the maxdepth that leads to the \n# lowest mean average error for this dataset\n# target & predictors to feed into our formula\ntarget <- \"SalePrice\"\npredictors <-  c(\"LotArea\", \"YearBuilt\", \"Condition1\", \"FullBath\", \"BedroomAbvGr\", \"TotRmsAbvGrd\")\n\n# get the MAE for maxdepths between 1 & 10\nfor(i in 1:10){\n    mae <- get_mae(maxdepth = i, target = target, predictors = predictors,\n                  training_data = splitData$train, testing_data = splitData$test)\n    print(glue::glue(\"Maxdepth: \",i,\"\\t MAE: \",mae))\n}",
      "execution_count": 14,
      "outputs": [
        {
          "output_type": "stream",
          "text": "Maxdepth: 1\t MAE: 46033.335833377\nMaxdepth: 2\t MAE: 41143.1294116184\nMaxdepth: 3\t MAE: 37006.8686716587\nMaxdepth: 4\t MAE: 36327.6225125628\nMaxdepth: 5\t MAE: 35816.0910402526\nMaxdepth: 6\t MAE: 35816.0910402526\nMaxdepth: 7\t MAE: 35816.0910402526\nMaxdepth: 8\t MAE: 35816.0910402526\nMaxdepth: 9\t MAE: 35816.0910402526\nMaxdepth: 10\t MAE: 35816.0910402526\n",
          "name": "stdout"
        }
      ]
    },
    {
      "metadata": {
        "_uuid": "993700d16b6bb6ee2fb0fc2b18b271cfb552340e",
        "_cell_guid": "6b869499-efcd-49f6-bb31-d1c1ddf42a8f"
      },
      "cell_type": "markdown",
      "source": "# A different type of model: Random forests\n\nNow it's your turn to fit a randomForest on your data. You're going to need to read in the randomForest library to do this, so be sure to run the first cell before you try to make a call to the randomForest() function or you'll get an error!"
    },
    {
      "metadata": {
        "_uuid": "97083be706192a2de0bb98825459d64a39af6386",
        "trusted": true,
        "_cell_guid": "5e38dd07-f28f-4bf9-a38a-394e1456fe9b"
      },
      "cell_type": "code",
      "source": "# read in the library we'll use for random forests\nlibrary(randomForest)",
      "execution_count": 15,
      "outputs": [
        {
          "output_type": "stream",
          "text": "randomForest 4.6-12\nType rfNews() to see new features/changes/bug fixes.\n\nAttaching package: ‘randomForest’\n\nThe following object is masked from ‘package:dplyr’:\n\n    combine\n\nThe following object is masked from ‘package:ggplot2’:\n\n    margin\n\n",
          "name": "stderr"
        }
      ]
    },
    {
      "metadata": {
        "_uuid": "dd9bbe6ef3cf27c3aa583c1d2b761dffe31a4444",
        "trusted": true,
        "_cell_guid": "632878f0-db03-4176-8e4e-dcd9639bc813"
      },
      "cell_type": "code",
      "source": "# Your turn: Train a random forest using the same features as you used\n# to train your original decision tree.\n# fit a random forest model to our training set\nfitRandomForest <- randomForest(SalePrice ~ LotArea + YearBuilt + Condition1 + FullBath + BedroomAbvGr + TotRmsAbvGrd, data = splitData$train)\n\n# get the mean average error for our new model, based on our test data\nmae(model = fitRandomForest, data = splitData$test)\n\n# Check out the MAE. Did you see an improvement over your original model?",
      "execution_count": 16,
      "outputs": [
        {
          "output_type": "display_data",
          "data": {
            "text/plain": "[1] 30482.64",
            "text/latex": "30482.6381770496",
            "text/markdown": "30482.6381770496",
            "text/html": "30482.6381770496"
          },
          "metadata": {}
        }
      ]
    }
  ],
  "metadata": {
    "kernelspec": {
      "display_name": "R",
      "language": "R",
      "name": "ir"
    },
    "language_info": {
      "mimetype": "text/x-r-source",
      "name": "R",
      "pygments_lexer": "r",
      "version": "3.4.2",
      "file_extension": ".r",
      "codemirror_mode": "r"
    }
  },
  "nbformat": 4,
  "nbformat_minor": 1
}